{
  "nbformat": 4,
  "nbformat_minor": 0,
  "metadata": {
    "colab": {
      "name": "median.ipynb",
      "provenance": []
    },
    "kernelspec": {
      "name": "python3",
      "display_name": "Python 3"
    },
    "language_info": {
      "name": "python"
    }
  },
  "cells": [
    {
      "cell_type": "code",
      "execution_count": null,
      "metadata": {
        "id": "tcgYjoi3stoe"
      },
      "outputs": [],
      "source": [
        "import pandas as pd\n",
        "import os\n",
        "# from google.colab import drive\n",
        "import matplotlib.pyplot as plt\n",
        "import seaborn as sns\n",
        "import numpy as np\n",
        "import scipy\n",
        "from sklearn.neighbors import KNeighborsClassifier\n",
        "from sklearn.preprocessing import MinMaxScaler\n",
        "from math import sqrt\n",
        "from sklearn.model_selection import cross_val_score,cross_val_predict,KFold,train_test_split,StratifiedKFold\n",
        "from sklearn.linear_model import LogisticRegression\n",
        "\n",
        "\n",
        "import imblearn\n",
        "from imblearn.over_sampling import SMOTE\n",
        "from sklearn.metrics import confusion_matrix,accuracy_score,recall_score,precision_score,f1_score, classification_report\n",
        "import time"
      ]
    },
    {
      "cell_type": "code",
      "source": [
        "from google.colab import drive\n",
        "drive.mount('/content/drive')"
      ],
      "metadata": {
        "colab": {
          "base_uri": "https://localhost:8080/"
        },
        "id": "rIMsoUYfsyrz",
        "outputId": "d37e0812-c539-491f-b3b5-46b7e3b5e79b"
      },
      "execution_count": null,
      "outputs": [
        {
          "output_type": "stream",
          "name": "stdout",
          "text": [
            "Mounted at /content/drive\n"
          ]
        }
      ]
    },
    {
      "cell_type": "code",
      "source": [
        "data = pd.read_csv('/content/drive/MyDrive/water_potability_csv.csv')"
      ],
      "metadata": {
        "id": "8iRvxIJZsu6J"
      },
      "execution_count": null,
      "outputs": []
    },
    {
      "cell_type": "code",
      "source": [
        "data['ph'] = data['ph'].fillna(data['ph'].median())\n",
        "data['Sulfate'] = data['Sulfate'].fillna(data['Sulfate'].median())\n",
        "data['Trihalomethanes'] = data['Trihalomethanes'].fillna(data['Trihalomethanes'].median())\n",
        "\n"
      ],
      "metadata": {
        "id": "6Uh3aEGbs6cw"
      },
      "execution_count": null,
      "outputs": []
    },
    {
      "cell_type": "code",
      "source": [
        "# pisah class\n",
        "X = data.drop(columns=\"Potability\")\n",
        "y = data.Potability"
      ],
      "metadata": {
        "id": "cyRbtVRutfaS"
      },
      "execution_count": null,
      "outputs": []
    },
    {
      "cell_type": "code",
      "source": [
        "# Pake Library SckitLearn buat ngubah angka antara 1 dan 0\n",
        "\n",
        "scaler = MinMaxScaler(feature_range=(0, 1))\n",
        "scaler.fit(X)\n",
        "\n",
        "X_scaled = scaler.transform(X)"
      ],
      "metadata": {
        "id": "MGhQpqKEs9qr"
      },
      "execution_count": null,
      "outputs": []
    },
    {
      "cell_type": "code",
      "source": [
        "y_array = np.array(y)"
      ],
      "metadata": {
        "id": "oOK4Z20ztCoY"
      },
      "execution_count": null,
      "outputs": []
    },
    {
      "cell_type": "code",
      "source": [
        "# KFOLD CROSS VALIDATION\n",
        "list_akurasi=[]\n",
        "i = range(3,57,2)\n",
        "akurasirendah = 1\n",
        "akurasiterbaik = 0\n",
        "kterbaik = 0\n",
        "for k in i:\n",
        "  knn = KNeighborsClassifier(n_neighbors=k)\n",
        "  akurasi = cross_val_score(knn, X_scaled, y, cv=10)\n",
        "  # mecari akurasi tertinggi\n",
        "  list_akurasi.append(akurasi.mean())\n",
        "  if akurasiterbaik < akurasi.mean():\n",
        "    akurasiterbaik = akurasi.mean()\n",
        "    kterbaik = k\n",
        "  # mencari akurasi terendah\n",
        "  list_akurasi.append(akurasi.mean())\n",
        "  if akurasirendah > akurasi.mean():\n",
        "    akurasirendah = akurasi.mean()\n",
        "    kterendah = k\n",
        "  print(k,akurasi.mean())\n",
        "print('nilai paling tertinggi pada k :',kterbaik,max(list_akurasi))\n",
        "print('nilai paling terendah pada k :',kterendah,min(list_akurasi))\n",
        "  "
      ],
      "metadata": {
        "colab": {
          "base_uri": "https://localhost:8080/"
        },
        "id": "gbHxauwntEKo",
        "outputId": "6689b49d-8481-4b3c-bf33-636ac7790575"
      },
      "execution_count": null,
      "outputs": [
        {
          "output_type": "stream",
          "name": "stdout",
          "text": [
            "3 0.5915697023942716\n",
            "5 0.6028613783844261\n",
            "7 0.6028641754307451\n",
            "9 0.611087491608861\n",
            "11 0.6135330424405161\n",
            "13 0.614140933840531\n",
            "15 0.6193350488550756\n",
            "17 0.6211643171477587\n",
            "19 0.6190245767136571\n",
            "21 0.6178022674722159\n",
            "23 0.6236117326769598\n",
            "25 0.6251370552696354\n",
            "27 0.6239259342134706\n",
            "29 0.6227017602744834\n",
            "31 0.6242308122622511\n",
            "33 0.6263677556500336\n",
            "35 0.6251463787573656\n",
            "37 0.6248424330573581\n",
            "39 0.626062877601253\n",
            "41 0.624228947564705\n",
            "43 0.6236247855597822\n",
            "45 0.6248461624524502\n",
            "47 0.627281457447602\n",
            "49 0.627893078242709\n",
            "51 0.6275844707988364\n",
            "53 0.6263696203475796\n",
            "55 0.6233143134183636\n",
            "nilai paling tertinggi pada k : 49 0.627893078242709\n",
            "nilai paling terendah pada k : 3 0.5915697023942716\n"
          ]
        }
      ]
    },
    {
      "cell_type": "code",
      "source": [
        "max(list_akurasi)"
      ],
      "metadata": {
        "colab": {
          "base_uri": "https://localhost:8080/"
        },
        "id": "JsY7Coe3tFy4",
        "outputId": "93d11b8f-96ad-4bd7-df4b-f99f633728c5"
      },
      "execution_count": null,
      "outputs": [
        {
          "output_type": "execute_result",
          "data": {
            "text/plain": [
              "0.627893078242709"
            ]
          },
          "metadata": {},
          "execution_count": 9
        }
      ]
    },
    {
      "cell_type": "code",
      "source": [
        "min(list_akurasi)"
      ],
      "metadata": {
        "colab": {
          "base_uri": "https://localhost:8080/"
        },
        "id": "mdrYoL-7tHDY",
        "outputId": "6d7a9425-5b5f-4656-ddeb-870a72b667a7"
      },
      "execution_count": null,
      "outputs": [
        {
          "output_type": "execute_result",
          "data": {
            "text/plain": [
              "0.5915697023942716"
            ]
          },
          "metadata": {},
          "execution_count": 10
        }
      ]
    },
    {
      "cell_type": "code",
      "source": [
        "knn = KNeighborsClassifier(n_neighbors=kterbaik)"
      ],
      "metadata": {
        "id": "SKBmWJQptIGk"
      },
      "execution_count": null,
      "outputs": []
    },
    {
      "cell_type": "code",
      "source": [
        "testing = cross_val_predict(knn,X_scaled,y,cv=10)"
      ],
      "metadata": {
        "id": "mXDjIJ4FtJHs"
      },
      "execution_count": null,
      "outputs": []
    },
    {
      "cell_type": "code",
      "source": [
        "confusion_matrix(y_array,testing,labels=[0,1])"
      ],
      "metadata": {
        "colab": {
          "base_uri": "https://localhost:8080/"
        },
        "id": "LUm6yEdztKRX",
        "outputId": "4f7027b4-a93d-4c89-b127-b395a6b1129e"
      },
      "execution_count": null,
      "outputs": [
        {
          "output_type": "execute_result",
          "data": {
            "text/plain": [
              "array([[1923,   75],\n",
              "       [1144,  134]])"
            ]
          },
          "metadata": {},
          "execution_count": 13
        }
      ]
    },
    {
      "cell_type": "code",
      "source": [
        "accuracy_score(y_array,testing)"
      ],
      "metadata": {
        "colab": {
          "base_uri": "https://localhost:8080/"
        },
        "id": "amoS6ng1tLCU",
        "outputId": "564eb927-ff24-4b23-f457-cfbe7817d672"
      },
      "execution_count": null,
      "outputs": [
        {
          "output_type": "execute_result",
          "data": {
            "text/plain": [
              "0.6278998778998779"
            ]
          },
          "metadata": {},
          "execution_count": 14
        }
      ]
    },
    {
      "cell_type": "code",
      "source": [
        "precision_score(y_array,testing,labels=[0,1])"
      ],
      "metadata": {
        "colab": {
          "base_uri": "https://localhost:8080/"
        },
        "id": "9V_saJLEtMUV",
        "outputId": "d6334484-0f73-4e4a-987e-490259f4ca67"
      },
      "execution_count": null,
      "outputs": [
        {
          "output_type": "execute_result",
          "data": {
            "text/plain": [
              "0.6411483253588517"
            ]
          },
          "metadata": {},
          "execution_count": 15
        }
      ]
    },
    {
      "cell_type": "code",
      "source": [
        "recall_score(y_array,testing,labels=[0,1])"
      ],
      "metadata": {
        "colab": {
          "base_uri": "https://localhost:8080/"
        },
        "id": "h_tmkcACtNs9",
        "outputId": "b9f9c6d8-ffbf-4c11-9f54-757a13d12d93"
      },
      "execution_count": null,
      "outputs": [
        {
          "output_type": "execute_result",
          "data": {
            "text/plain": [
              "0.10485133020344288"
            ]
          },
          "metadata": {},
          "execution_count": 16
        }
      ]
    },
    {
      "cell_type": "code",
      "source": [
        "f1_score(y_array,testing,labels=[0,1])"
      ],
      "metadata": {
        "colab": {
          "base_uri": "https://localhost:8080/"
        },
        "id": "HFOIfi-TtOwi",
        "outputId": "1f793ce1-b70a-4ce1-ab45-3154b4bae693"
      },
      "execution_count": null,
      "outputs": [
        {
          "output_type": "execute_result",
          "data": {
            "text/plain": [
              "0.18022864828513788"
            ]
          },
          "metadata": {},
          "execution_count": 17
        }
      ]
    },
    {
      "cell_type": "code",
      "source": [
        "print(classification_report (y, testing))"
      ],
      "metadata": {
        "colab": {
          "base_uri": "https://localhost:8080/"
        },
        "id": "PDu_zAQFtQCL",
        "outputId": "976d820b-8627-4dbe-891e-28168c168d73"
      },
      "execution_count": null,
      "outputs": [
        {
          "output_type": "stream",
          "name": "stdout",
          "text": [
            "              precision    recall  f1-score   support\n",
            "\n",
            "           0       0.63      0.96      0.76      1998\n",
            "           1       0.64      0.10      0.18      1278\n",
            "\n",
            "    accuracy                           0.63      3276\n",
            "   macro avg       0.63      0.53      0.47      3276\n",
            "weighted avg       0.63      0.63      0.53      3276\n",
            "\n"
          ]
        }
      ]
    }
  ]
}