{
  "cells": [
    {
      "cell_type": "code",
      "execution_count": null,
      "metadata": {
        "id": "bMmy4B12rcOR"
      },
      "outputs": [],
      "source": [
        " import pandas as pd\n",
        "import os\n",
        "# from google.colab import drive\n",
        "import matplotlib.pyplot as plt\n",
        "import seaborn as sns\n",
        "import numpy as np\n",
        "import scipy\n",
        "from sklearn.neighbors import KNeighborsClassifier\n",
        "from sklearn.preprocessing import MinMaxScaler\n",
        "from math import sqrt\n",
        "from sklearn.model_selection import cross_val_score,cross_val_predict,KFold,train_test_split,StratifiedKFold\n",
        "from sklearn.linear_model import LogisticRegression\n",
        "\n",
        "\n",
        "import imblearn\n",
        "from sklearn.metrics import confusion_matrix,accuracy_score,recall_score,precision_score,f1_score, classification_report\n",
        "import time"
      ]
    },
    {
      "cell_type": "code",
      "execution_count": null,
      "metadata": {
        "id": "201-SoRVJbzQ"
      },
      "outputs": [],
      "source": [
        "from google.colab import drive\n",
        "drive.mount('/content/drive')"
      ]
    },
    {
      "cell_type": "code",
      "execution_count": null,
      "metadata": {
        "id": "WOgnjTVtrg2z"
      },
      "outputs": [],
      "source": [
        "data = pd.read_csv('/content/drive/MyDrive/water_potability_csv.csv')"
      ]
    },
    {
      "cell_type": "code",
      "execution_count": null,
      "metadata": {
        "id": "g69lORuxrho5"
      },
      "outputs": [],
      "source": [
        "data"
      ]
    },
    {
      "cell_type": "code",
      "execution_count": null,
      "metadata": {
        "id": "ctFEJjwVA9Gh"
      },
      "outputs": [],
      "source": [
        "data.isnull().sum()"
      ]
    },
    {
      "cell_type": "code",
      "execution_count": null,
      "metadata": {
        "id": "oJE9lRHyrjMg"
      },
      "outputs": [],
      "source": [
        "data['ph'] = data['ph'].fillna(data['ph'].mean())\n",
        "data['Sulfate'] = data['Sulfate'].fillna(data['Sulfate'].mean())\n",
        "data['Trihalomethanes'] = data['Trihalomethanes'].fillna(data['Trihalomethanes'].mean())"
      ]
    },
    {
      "cell_type": "code",
      "execution_count": null,
      "metadata": {
        "id": "ckO-ugdxijFt"
      },
      "outputs": [],
      "source": [
        "print(data)"
      ]
    },
    {
      "cell_type": "code",
      "execution_count": null,
      "metadata": {
        "id": "1Cyyaf98BJF5"
      },
      "outputs": [],
      "source": [
        "data.min()"
      ]
    },
    {
      "cell_type": "code",
      "execution_count": null,
      "metadata": {
        "id": "8JV7-w2IDIx6"
      },
      "outputs": [],
      "source": [
        "data.max()"
      ]
    },
    {
      "cell_type": "code",
      "execution_count": null,
      "metadata": {
        "id": "MrSf8zJwrlkY"
      },
      "outputs": [],
      "source": [
        "# pisah class\n",
        "X = data.drop(columns=\"Potability\")\n",
        "y = data.Potability\n"
      ]
    },
    {
      "cell_type": "code",
      "execution_count": null,
      "metadata": {
        "id": "6srSkm2NJ6L2"
      },
      "outputs": [],
      "source": [
        "# # Pake Library SckitLearn buat ngubah angka antara 1 dan 0\n",
        "\n",
        "scaler = MinMaxScaler(feature_range=(0, 1))\n",
        "scaler.fit(X)\n",
        "\n",
        "X_scaled = scaler.transform(X)"
      ]
    },
    {
      "cell_type": "code",
      "execution_count": null,
      "metadata": {
        "id": "eHuGmtv4Mwo2"
      },
      "outputs": [],
      "source": [
        "X_scaled"
      ]
    },
    {
      "cell_type": "code",
      "execution_count": null,
      "metadata": {
        "id": "aUN5czpPrn8n"
      },
      "outputs": [],
      "source": [
        "# mengubah clasnya menjadi array\n",
        "y_array = np.array(y)"
      ]
    },
    {
      "cell_type": "code",
      "execution_count": null,
      "metadata": {
        "id": "hzux-sGhBqhZ"
      },
      "outputs": [],
      "source": [
        ""
      ]
    },
    {
      "cell_type": "code",
      "execution_count": null,
      "metadata": {
        "colab": {
          "background_save": true
        },
        "id": "92XYijPiAgJC",
        "outputId": "2fea09f9-471c-4c23-9a13-fc749aa0ad59"
      },
      "outputs": [
        {
          "name": "stdout",
          "output_type": "stream",
          "text": [
            "3 0.5934008353845006\n",
            "5 0.6031671887819796\n",
            "7 0.6062206310136495\n",
            "9 0.6110912210039532\n",
            "11 0.6126202729917207\n",
            "13 0.6129176922503169\n",
            "15 0.6190329678526142\n",
            "17 0.6196389945550832\n",
            "19 0.6190245767136571\n",
            "21 0.6202468859550982\n",
            "23 0.6239203401208323\n",
            "25 0.6263612292086224\n",
            "27 0.6227045573208027\n",
            "29 0.622394085179384\n",
            "31 0.623009435369583\n",
            "33 0.6257552025061535\n",
            "35 0.6254521891549192\n",
            "37 0.6236229208622361\n",
            "39 0.6266735660475871\n",
            "41 0.6233115163720445\n",
            "43 0.6242354740061161\n",
            "45 0.6251557022450959\n",
            "47 0.6266707690012681\n",
            "49 0.627281457447602\n",
            "51 0.627891213545163\n",
            "53 0.6263686879988065\n",
            "55 0.6236210561646901\n",
            "nilai paling tertinggi pada k : 51 0.627891213545163\n",
            "nilai paling terendah pada k : 3 0.5934008353845006\n"
          ]
        }
      ],
      "source": [
        "# KFOLD CROSS VALIDATION\n",
        "list_akurasi=[]\n",
        "i = range(3,57,2)\n",
        "akurasirendah = 1\n",
        "akurasiterbaik = 0\n",
        "kterbaik = 0\n",
        "for k in i:\n",
        "  knn = KNeighborsClassifier(n_neighbors=k)\n",
        "  akurasi = cross_val_score(knn, X_scaled, y, cv=10,)\n",
        "  # mecari akurasi tertinggi\n",
        "  list_akurasi.append(akurasi.mean())\n",
        "  if akurasiterbaik < akurasi.mean():\n",
        "    akurasiterbaik = akurasi.mean()\n",
        "    kterbaik = k\n",
        "  # mencari akurasi terendah\n",
        "  list_akurasi.append(akurasi.mean())\n",
        "  if akurasirendah > akurasi.mean():\n",
        "    akurasirendah = akurasi.mean()\n",
        "    kterendah = k\n",
        "  print(k,akurasi.mean())\n",
        "print('nilai paling tertinggi pada k :',kterbaik,max(list_akurasi))\n",
        "print('nilai paling terendah pada k :',kterendah,min(list_akurasi))\n",
        "  \n",
        "  "
      ]
    },
    {
      "cell_type": "code",
      "execution_count": null,
      "metadata": {
        "colab": {
          "background_save": true
        },
        "id": "iQeCIF6SfLA1",
        "outputId": "24faf96c-f61b-4909-e803-7a11ad6ec905"
      },
      "outputs": [
        {
          "data": {
            "text/plain": [
              "0.627891213545163"
            ]
          },
          "execution_count": null,
          "metadata": {},
          "output_type": "execute_result"
        }
      ],
      "source": [
        "max(list_akurasi)"
      ]
    },
    {
      "cell_type": "code",
      "execution_count": null,
      "metadata": {
        "colab": {
          "background_save": true
        },
        "id": "9yVQ_jP3IzgE",
        "outputId": "3d9fbd21-c273-4d15-f5b0-0ee5cdd7898b"
      },
      "outputs": [
        {
          "data": {
            "text/plain": [
              "0.5934008353845006"
            ]
          },
          "execution_count": null,
          "metadata": {},
          "output_type": "execute_result"
        }
      ],
      "source": [
        "min(list_akurasi)"
      ]
    },
    {
      "cell_type": "code",
      "execution_count": null,
      "metadata": {
        "colab": {
          "background_save": true
        },
        "id": "nMtoe4aiki_s"
      },
      "outputs": [],
      "source": [
        "knn = KNeighborsClassifier(n_neighbors=kterbaik)"
      ]
    },
    {
      "cell_type": "code",
      "execution_count": null,
      "metadata": {
        "colab": {
          "background_save": true
        },
        "id": "PGYuXCMVI51C"
      },
      "outputs": [],
      "source": [
        "testing = cross_val_predict(knn,X_scaled,y,cv=10)"
      ]
    },
    {
      "cell_type": "code",
      "execution_count": null,
      "metadata": {
        "colab": {
          "background_save": true
        },
        "id": "EOr6Gs7hJ9Hs",
        "outputId": "8442c7c7-6032-433b-b795-f3d4a7d593bb"
      },
      "outputs": [
        {
          "data": {
            "text/plain": [
              "array([[1927,   71],\n",
              "       [1148,  130]])"
            ]
          },
          "execution_count": null,
          "metadata": {},
          "output_type": "execute_result"
        }
      ],
      "source": [
        "confusion_matrix(y_array,testing,labels=[0,1])"
      ]
    },
    {
      "cell_type": "markdown",
      "metadata": {
        "id": "W1-fzP6XPgdm"
      },
      "source": [
        "accuracy score TP+TN/TP+FP+FN+TN"
      ]
    },
    {
      "cell_type": "code",
      "execution_count": null,
      "metadata": {
        "colab": {
          "background_save": true
        },
        "id": "49QglNhnLnaU",
        "outputId": "ae7bd913-fff8-4ca5-8f4c-31a80adcc816"
      },
      "outputs": [
        {
          "data": {
            "text/plain": [
              "0.6278998778998779"
            ]
          },
          "execution_count": null,
          "metadata": {},
          "output_type": "execute_result"
        }
      ],
      "source": [
        "accuracy_score(y_array,testing)"
      ]
    },
    {
      "cell_type": "markdown",
      "metadata": {
        "id": "I2EW6r0BPGvY"
      },
      "source": [
        "precision score adalah TP/TP+FP"
      ]
    },
    {
      "cell_type": "code",
      "execution_count": null,
      "metadata": {
        "colab": {
          "background_save": true
        },
        "id": "hcoa8ThbK90_",
        "outputId": "db0b4f54-ecc3-4768-9b32-e39479fbda65"
      },
      "outputs": [
        {
          "data": {
            "text/plain": [
              "0.6467661691542289"
            ]
          },
          "execution_count": null,
          "metadata": {},
          "output_type": "execute_result"
        }
      ],
      "source": [
        "precision_score(y_array,testing,labels=[0,1])"
      ]
    },
    {
      "cell_type": "markdown",
      "metadata": {
        "id": "dKmF_NmlPNpU"
      },
      "source": [
        "recall adalah TP/TP+FN"
      ]
    },
    {
      "cell_type": "code",
      "execution_count": null,
      "metadata": {
        "colab": {
          "background_save": true
        },
        "id": "C-7Y2feMLh0s",
        "outputId": "7aafcc6a-89ef-4464-989b-dab7b6f30cf6"
      },
      "outputs": [
        {
          "data": {
            "text/plain": [
              "0.10172143974960876"
            ]
          },
          "execution_count": null,
          "metadata": {},
          "output_type": "execute_result"
        }
      ],
      "source": [
        "recall_score(y_array,testing,labels=[0,1])"
      ]
    },
    {
      "cell_type": "markdown",
      "metadata": {
        "id": "Ntw1l2ICQt_O"
      },
      "source": [
        "F1 SCORE adalah 2 kali precision + recall dibagi precision + recall"
      ]
    },
    {
      "cell_type": "code",
      "execution_count": null,
      "metadata": {
        "colab": {
          "background_save": true
        },
        "id": "fbeO5xyyN_p-",
        "outputId": "f43f09ba-c66f-40ee-f1be-b6367e99baaf"
      },
      "outputs": [
        {
          "data": {
            "text/plain": [
              "0.1757944557133198"
            ]
          },
          "execution_count": null,
          "metadata": {},
          "output_type": "execute_result"
        }
      ],
      "source": [
        "f1_score(y_array,testing,labels=[0,1])"
      ]
    },
    {
      "cell_type": "code",
      "execution_count": null,
      "metadata": {
        "colab": {
          "background_save": true
        },
        "id": "CvW7mHcmUBaM",
        "outputId": "45d88082-23ae-499a-f5b6-a7b130d6405e"
      },
      "outputs": [
        {
          "name": "stdout",
          "output_type": "stream",
          "text": [
            "              precision    recall  f1-score   support\n",
            "\n",
            "           0       0.63      0.96      0.76      1998\n",
            "           1       0.65      0.10      0.18      1278\n",
            "\n",
            "    accuracy                           0.63      3276\n",
            "   macro avg       0.64      0.53      0.47      3276\n",
            "weighted avg       0.63      0.63      0.53      3276\n",
            "\n"
          ]
        }
      ],
      "source": [
        "print(classification_report (y, testing))"
      ]
    }
  ],
  "metadata": {
    "colab": {
      "collapsed_sections": [],
      "name": "mean.ipynb",
      "provenance": []
    },
    "kernelspec": {
      "display_name": "Python 3",
      "name": "python3"
    },
    "language_info": {
      "name": "python"
    }
  },
  "nbformat": 4,
  "nbformat_minor": 0
}